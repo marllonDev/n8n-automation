{
 "cells": [
  {
   "cell_type": "code",
   "execution_count": 1,
   "id": "ea068da3",
   "metadata": {},
   "outputs": [],
   "source": [
    "import pandas as pd\n",
    "import s3fs\n",
    "from dotenv import load_dotenv\n",
    "import os"
   ]
  },
  {
   "cell_type": "code",
   "execution_count": 2,
   "id": "9360a042",
   "metadata": {},
   "outputs": [],
   "source": [
    "# --- Início da Configuração ---\n",
    "load_dotenv()  # Isso carrega as variáveis do arquivo .env\n",
    "\n",
    "# 1. Definimos as credenciais e o endpoint para o MinIO\n",
    "#    Lembre-se que, como estamos rodando localmente (e não de um container para outro),\n",
    "#    usamos 'localhost' e a porta que mapeamos no docker-compose.yml.\n",
    "MINIO_ENDPOINT = os.getenv(\"MINIO_ENDPOINT\")\n",
    "MINIO_ACCESS_KEY = os.getenv(\"MINIO_ACCESS_KEY\")\n",
    "MINIO_SECRET_KEY = os.getenv(\"MINIO_SECRET_KEY\")\n",
    "\n",
    "# 2. Criamos o objeto de conexão com o MinIO explicitamente\n",
    "s3 = s3fs.S3FileSystem(\n",
    "    key=MINIO_ACCESS_KEY,\n",
    "    secret=MINIO_SECRET_KEY,\n",
    "    client_kwargs={\n",
    "        'endpoint_url': MINIO_ENDPOINT,\n",
    "        'use_ssl': False # Desabilita SSL para conexões HTTP}\n",
    "        } \n",
    ")\n",
    "\n",
    "# 3. Definimos o caminho completo (bucket + nome do arquivo) para o nosso Parquet\n",
    "parquet_s3_path = 'processed-parquet/dados_tratados.parquet'\n",
    "\n",
    "# --- Fim da Configuração ---"
   ]
  },
  {
   "cell_type": "code",
   "execution_count": 8,
   "id": "4de504e7",
   "metadata": {},
   "outputs": [
    {
     "name": "stdout",
     "output_type": "stream",
     "text": [
      ">>> Lendo o arquivo Parquet de: s3://processed-parquet/dados_tratados.parquet\n",
      "\n",
      "Arquivo Parquet lido com sucesso! As 5 primeiras linhas são:\n",
      "       NOME SOBRENOME  IDADE                      EMAIL          CPF  \\\n",
      "0     Luiza   Correia     36           luigi32@viana.br  10000000000   \n",
      "1  Bernardo    Araújo     32  lucas-gabrielsantos@da.br  10000000001   \n",
      "2  Leonardo     Porto     26    da-cruzmaria@uol.com.br  10000000002   \n",
      "3   Rodrigo   Freitas     65   sarahmendes@carvalho.com  10000000003   \n",
      "4      Theo  Monteiro     40      ramosesther@gmail.com  10000000004   \n",
      "\n",
      "                                     ID                  CRIADO EM  \n",
      "0  3e3fdb22-6db1-4c00-8742-dfef97a07c06 2025-07-07 17:57:31.005038  \n",
      "1  c86de79c-f2dc-4af5-9d3a-ea91f3f08808 2025-07-07 17:57:31.005038  \n",
      "2  ec6b41e2-5d69-425a-83b6-945d5bb559ce 2025-07-07 17:57:31.005038  \n",
      "3  07fb0d8d-f42a-4788-8ebd-9dc08d9888e1 2025-07-07 17:57:31.005038  \n",
      "4  c3b672db-481d-4a56-8510-9bef2ff6bced 2025-07-07 17:57:31.005038  \n"
     ]
    }
   ],
   "source": [
    "print(f\">>> Lendo o arquivo Parquet de: s3://{parquet_s3_path}\")\n",
    "\n",
    "try:\n",
    "    # 4. ABRIMOS o arquivo usando o nosso objeto de conexão 's3'\n",
    "    # e passamos o arquivo aberto para o pandas ler.\n",
    "    with s3.open(parquet_s3_path, 'rb') as f:\n",
    "        df = pd.read_parquet(f)\n",
    "\n",
    "    # Mostra as 5 primeiras linhas do arquivo para confirmar que a leitura funcionou\n",
    "    print(\"\\nArquivo Parquet lido com sucesso! As 5 primeiras linhas são:\")\n",
    "    print(df.head())\n",
    "\n",
    "except Exception as e:\n",
    "    print(f\"\\nERRO: Não foi possível ler o arquivo. Verifique o caminho, as credenciais e o endpoint.\")\n",
    "    print(f\"Detalhe do erro: {e}\")"
   ]
  }
 ],
 "metadata": {
  "kernelspec": {
   "display_name": "Python (Análise de Dados)",
   "language": "python",
   "name": "analise-dados-venv"
  },
  "language_info": {
   "codemirror_mode": {
    "name": "ipython",
    "version": 3
   },
   "file_extension": ".py",
   "mimetype": "text/x-python",
   "name": "python",
   "nbconvert_exporter": "python",
   "pygments_lexer": "ipython3",
   "version": "3.12.3"
  }
 },
 "nbformat": 4,
 "nbformat_minor": 5
}
